{
 "cells": [
  {
   "cell_type": "code",
   "execution_count": 4,
   "id": "fb053960-0488-47ec-9fb4-6c5801789a15",
   "metadata": {},
   "outputs": [],
   "source": [
    "import numpy as np\n",
    "import numpy.polynomial.polynomial as p"
   ]
  },
  {
   "cell_type": "markdown",
   "id": "bae4ae0b-f62d-4f0c-8bed-7c07a4c230ca",
   "metadata": {},
   "source": [
    "# Basic Algebra\n",
    "### Functions, polynomials, coordinate systems, complex numbers"
   ]
  },
  {
   "cell_type": "markdown",
   "id": "45fd53fb-7096-4ee0-9acc-bbf18267fa04",
   "metadata": {},
   "source": [
    "pi = обиколката(дължината) и диаметъра на окръжността"
   ]
  },
  {
   "cell_type": "markdown",
   "id": "09c7e775-c242-4e70-8669-66a8585c0da5",
   "metadata": {},
   "source": [
    "линейно уравнение $$ax + b$$\n",
    "квадратно уравнение $$ax^2 + bx + c$$\n",
    "\n",
    "\n",
    "x - променлива;\n",
    "a,b,c - констати;\n",
    "\n",
    "$$\n",
    "f(x; a,b) = f(x)\n",
    "$$\n",
    "\n",
    "многочлен = полином\n",
    "\n"
   ]
  },
  {
   "cell_type": "code",
   "execution_count": 35,
   "id": "cc7dd732-e157-4122-bf78-b612a40cce34",
   "metadata": {},
   "outputs": [
    {
     "data": {
      "text/plain": [
       "numpy.polynomial.polynomial.Polynomial"
      ]
     },
     "execution_count": 35,
     "metadata": {},
     "output_type": "execute_result"
    }
   ],
   "source": [
    "np.polynomial.polynomial.Polynomial"
   ]
  },
  {
   "cell_type": "markdown",
   "id": "e71a895e-efc5-47c7-a94b-00c50ecc72c4",
   "metadata": {},
   "source": [
    "в numpy полуномите се записват като лист като индекса на листа отговаря на степента"
   ]
  },
  {
   "cell_type": "code",
   "execution_count": 52,
   "id": "d9917d9a-1e8e-4fb8-9709-b5d5ce283b60",
   "metadata": {},
   "outputs": [
    {
     "data": {
      "text/latex": [
       "$x \\mapsto \\text{9.0} + \\text{5.0}\\,x + \\text{2.0}\\,x^{2} + \\text{4.0}\\,x^{3}$"
      ],
      "text/plain": [
       "Polynomial([9., 5., 2., 4.], domain=[-1,  1], window=[-1,  1], symbol='x')"
      ]
     },
     "execution_count": 52,
     "metadata": {},
     "output_type": "execute_result"
    }
   ],
   "source": [
    "test_p1 = np.polynomial.polynomial.Polynomial([9, 5, 2, 4])\n",
    "test_p1"
   ]
  },
  {
   "cell_type": "code",
   "execution_count": 58,
   "id": "31d5bd91-2695-4437-b177-363f23403982",
   "metadata": {},
   "outputs": [
    {
     "data": {
      "text/plain": [
       "array([9., 5., 2., 4.])"
      ]
     },
     "execution_count": 58,
     "metadata": {},
     "output_type": "execute_result"
    }
   ],
   "source": [
    "test_p2 = p.Polynomial([9, 5, 2, 4])\n",
    "test_p2\n",
    "test_p2.coef"
   ]
  },
  {
   "cell_type": "code",
   "execution_count": 62,
   "id": "b643378e-96f1-4b51-90e9-23c45f8062ca",
   "metadata": {},
   "outputs": [
    {
     "data": {
      "text/plain": [
       "{1, 2, 3}"
      ]
     },
     "execution_count": 62,
     "metadata": {},
     "output_type": "execute_result"
    }
   ],
   "source": [
    "set([1, 2, 3])"
   ]
  },
  {
   "cell_type": "code",
   "execution_count": 66,
   "id": "13c9f1bb-00e4-4c99-a865-faa466aa9260",
   "metadata": {},
   "outputs": [
    {
     "data": {
      "text/plain": [
       "{1, 2, 3}"
      ]
     },
     "execution_count": 66,
     "metadata": {},
     "output_type": "execute_result"
    }
   ],
   "source": [
    "set([1, 2, 3, 3, 2, 1, 3]) #only 1, 2, 3; sets have unique values but no indexes like lists"
   ]
  },
  {
   "cell_type": "code",
   "execution_count": 68,
   "id": "602d129b-9aac-4901-b9f0-edb037d9fa81",
   "metadata": {},
   "outputs": [
    {
     "data": {
      "text/plain": [
       "True"
      ]
     },
     "execution_count": 68,
     "metadata": {},
     "output_type": "execute_result"
    }
   ],
   "source": [
    "2 in set([1, 2, 3, 3, 2, 1, 3])"
   ]
  },
  {
   "cell_type": "code",
   "execution_count": 72,
   "id": "828a31dc-4496-45f6-a1d0-1e8102e03c5d",
   "metadata": {},
   "outputs": [
    {
     "data": {
      "text/plain": [
       "False"
      ]
     },
     "execution_count": 72,
     "metadata": {},
     "output_type": "execute_result"
    }
   ],
   "source": [
    "20 in set([1, 2, 3, 3, 2, 1, 3])"
   ]
  },
  {
   "cell_type": "code",
   "execution_count": 78,
   "id": "854fed74-ac59-4e66-ac55-660d76c741ea",
   "metadata": {},
   "outputs": [
    {
     "data": {
      "text/plain": [
       "[100, 81, 64, 49, 36, 25, 16, 9, 4, 1, 0, 1, 4, 9, 16, 25, 36, 49, 64, 81, 100]"
      ]
     },
     "execution_count": 78,
     "metadata": {},
     "output_type": "execute_result"
    }
   ],
   "source": [
    "[x ** 2 for x in range(-10, 11)] #list"
   ]
  },
  {
   "cell_type": "code",
   "execution_count": 80,
   "id": "d47b1e69-cf04-4acc-a4a3-1a875dd7345b",
   "metadata": {},
   "outputs": [
    {
     "data": {
      "text/plain": [
       "{0, 1, 4, 9, 16, 25, 36, 49, 64, 81, 100}"
      ]
     },
     "execution_count": 80,
     "metadata": {},
     "output_type": "execute_result"
    }
   ],
   "source": [
    "{x ** 2 for x in range(-10, 11)} #set"
   ]
  },
  {
   "cell_type": "code",
   "execution_count": 3,
   "id": "2050af4e-1af9-43b8-8ebb-ab1d4229dd6d",
   "metadata": {},
   "outputs": [],
   "source": [
    "set1 = {1, 2, 4, 5}"
   ]
  },
  {
   "cell_type": "code",
   "execution_count": 5,
   "id": "baf569c8-01e0-483b-8e1d-79200b2117b8",
   "metadata": {},
   "outputs": [],
   "source": [
    "set2 = {2, 5, 6, 7}"
   ]
  },
  {
   "cell_type": "code",
   "execution_count": 7,
   "id": "178571af-c147-47a7-bc25-e0bb34ed6adf",
   "metadata": {},
   "outputs": [
    {
     "data": {
      "text/plain": [
       "{1, 2, 4, 5, 6, 7}"
      ]
     },
     "execution_count": 7,
     "metadata": {},
     "output_type": "execute_result"
    }
   ],
   "source": [
    "set1.union(set2)"
   ]
  },
  {
   "cell_type": "code",
   "execution_count": 9,
   "id": "360a40dd-8061-46f7-906c-fb3f7e13ec0d",
   "metadata": {},
   "outputs": [
    {
     "data": {
      "text/plain": [
       "{2, 5}"
      ]
     },
     "execution_count": 9,
     "metadata": {},
     "output_type": "execute_result"
    }
   ],
   "source": [
    "set1.intersection(set2)"
   ]
  },
  {
   "cell_type": "code",
   "execution_count": 11,
   "id": "11cd4838-40f2-4a10-a6e3-7d082049e000",
   "metadata": {},
   "outputs": [
    {
     "data": {
      "text/plain": [
       "True"
      ]
     },
     "execution_count": 11,
     "metadata": {},
     "output_type": "execute_result"
    }
   ],
   "source": [
    "set1.union(set2) == set2.union(set1)"
   ]
  },
  {
   "cell_type": "code",
   "execution_count": 13,
   "id": "dc4aeace-7a14-4d5c-bb0e-5b2059dbe502",
   "metadata": {},
   "outputs": [
    {
     "data": {
      "text/plain": [
       "True"
      ]
     },
     "execution_count": 13,
     "metadata": {},
     "output_type": "execute_result"
    }
   ],
   "source": [
    "set1.intersection(set2) == set2.intersection(set1)"
   ]
  },
  {
   "cell_type": "code",
   "execution_count": 15,
   "id": "3501c563-c481-4e25-a7a1-d66c7a3a9422",
   "metadata": {},
   "outputs": [
    {
     "data": {
      "text/plain": [
       "{1, 4}"
      ]
     },
     "execution_count": 15,
     "metadata": {},
     "output_type": "execute_result"
    }
   ],
   "source": [
    "set1.difference(set2)"
   ]
  },
  {
   "cell_type": "markdown",
   "id": "a3874eec-066e-43f2-bffd-bdf8ca6de5f0",
   "metadata": {},
   "source": [
    "what is?\n",
    "set1 + set2\n",
    "\n",
    "set1 * set2"
   ]
  },
  {
   "cell_type": "code",
   "execution_count": 22,
   "id": "fc98e805-1006-4d93-9648-2d63a945191e",
   "metadata": {},
   "outputs": [
    {
     "data": {
      "text/plain": [
       "{1, 4}"
      ]
     },
     "execution_count": 22,
     "metadata": {},
     "output_type": "execute_result"
    }
   ],
   "source": [
    "set1.difference(set2)"
   ]
  },
  {
   "cell_type": "code",
   "execution_count": 24,
   "id": "9a86ddf8-793e-468b-9b2d-0f5e3c8a1bce",
   "metadata": {},
   "outputs": [
    {
     "data": {
      "text/plain": [
       "{6, 7}"
      ]
     },
     "execution_count": 24,
     "metadata": {},
     "output_type": "execute_result"
    }
   ],
   "source": [
    "set2.difference(set1)"
   ]
  },
  {
   "cell_type": "code",
   "execution_count": 26,
   "id": "3bea3f22-3761-4a93-8146-0d1ebe61426b",
   "metadata": {},
   "outputs": [
    {
     "data": {
      "text/plain": [
       "{1, 4, 6, 7}"
      ]
     },
     "execution_count": 26,
     "metadata": {},
     "output_type": "execute_result"
    }
   ],
   "source": [
    "set1.symmetric_difference(set2)"
   ]
  },
  {
   "cell_type": "code",
   "execution_count": 28,
   "id": "1a9e75f6-9f1d-46f6-8189-f9e5be655696",
   "metadata": {},
   "outputs": [
    {
     "data": {
      "text/plain": [
       "{1, 4, 6, 7}"
      ]
     },
     "execution_count": 28,
     "metadata": {},
     "output_type": "execute_result"
    }
   ],
   "source": [
    "set2.symmetric_difference(set1)"
   ]
  },
  {
   "cell_type": "markdown",
   "id": "65679977-3ed3-4c27-8b06-aecbd8841b7f",
   "metadata": {},
   "source": [
    "De Morgan's laws\n"
   ]
  },
  {
   "cell_type": "markdown",
   "id": "502d9b33-01c6-449c-a7d9-d3af1ce44738",
   "metadata": {},
   "source": [
    "Cartesian product\n",
    "Декартово произведение на две множества са всеки с всеки елемент"
   ]
  },
  {
   "cell_type": "code",
   "execution_count": null,
   "id": "1d20782b-169a-49dc-91f0-0a4f930788f0",
   "metadata": {},
   "outputs": [],
   "source": []
  }
 ],
 "metadata": {
  "kernelspec": {
   "display_name": "Python [conda env:base] *",
   "language": "python",
   "name": "conda-base-py"
  },
  "language_info": {
   "codemirror_mode": {
    "name": "ipython",
    "version": 3
   },
   "file_extension": ".py",
   "mimetype": "text/x-python",
   "name": "python",
   "nbconvert_exporter": "python",
   "pygments_lexer": "ipython3",
   "version": "3.12.7"
  }
 },
 "nbformat": 4,
 "nbformat_minor": 5
}
