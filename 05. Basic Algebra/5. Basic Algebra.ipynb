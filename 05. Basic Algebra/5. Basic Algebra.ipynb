{
 "cells": [
  {
   "cell_type": "code",
   "execution_count": 4,
   "id": "fb053960-0488-47ec-9fb4-6c5801789a15",
   "metadata": {},
   "outputs": [],
   "source": [
    "import numpy as np\n",
    "import numpy.polynomial.polynomial as p"
   ]
  },
  {
   "cell_type": "markdown",
   "id": "bae4ae0b-f62d-4f0c-8bed-7c07a4c230ca",
   "metadata": {},
   "source": [
    "# Basic Algebra\n",
    "### Functions, polynomials, coordinate systems, complex numbers"
   ]
  },
  {
   "cell_type": "markdown",
   "id": "45fd53fb-7096-4ee0-9acc-bbf18267fa04",
   "metadata": {},
   "source": [
    "pi = обиколката(дължината) и диаметъра на окръжността"
   ]
  },
  {
   "cell_type": "markdown",
   "id": "09c7e775-c242-4e70-8669-66a8585c0da5",
   "metadata": {},
   "source": [
    "линейно уравнение $$ax + b$$\n",
    "квадратно уравнение $$ax^2 + bx + c$$\n",
    "\n",
    "\n",
    "x - променлива;\n",
    "a,b,c - констати;\n",
    "\n",
    "$$\n",
    "f(x; a,b) = f(x)\n",
    "$$\n",
    "\n",
    "многочлен = полином\n",
    "\n"
   ]
  },
  {
   "cell_type": "code",
   "execution_count": 35,
   "id": "cc7dd732-e157-4122-bf78-b612a40cce34",
   "metadata": {},
   "outputs": [
    {
     "data": {
      "text/plain": [
       "numpy.polynomial.polynomial.Polynomial"
      ]
     },
     "execution_count": 35,
     "metadata": {},
     "output_type": "execute_result"
    }
   ],
   "source": [
    "np.polynomial.polynomial.Polynomial"
   ]
  },
  {
   "cell_type": "markdown",
   "id": "e71a895e-efc5-47c7-a94b-00c50ecc72c4",
   "metadata": {},
   "source": [
    "в numpy полуномите се записват като лист като индекса на листа отговаря на степента"
   ]
  },
  {
   "cell_type": "code",
   "execution_count": 52,
   "id": "d9917d9a-1e8e-4fb8-9709-b5d5ce283b60",
   "metadata": {},
   "outputs": [
    {
     "data": {
      "text/latex": [
       "$x \\mapsto \\text{9.0} + \\text{5.0}\\,x + \\text{2.0}\\,x^{2} + \\text{4.0}\\,x^{3}$"
      ],
      "text/plain": [
       "Polynomial([9., 5., 2., 4.], domain=[-1,  1], window=[-1,  1], symbol='x')"
      ]
     },
     "execution_count": 52,
     "metadata": {},
     "output_type": "execute_result"
    }
   ],
   "source": [
    "test_p1 = np.polynomial.polynomial.Polynomial([9, 5, 2, 4])\n",
    "test_p1"
   ]
  },
  {
   "cell_type": "code",
   "execution_count": 58,
   "id": "31d5bd91-2695-4437-b177-363f23403982",
   "metadata": {},
   "outputs": [
    {
     "data": {
      "text/plain": [
       "array([9., 5., 2., 4.])"
      ]
     },
     "execution_count": 58,
     "metadata": {},
     "output_type": "execute_result"
    }
   ],
   "source": [
    "test_p2 = p.Polynomial([9, 5, 2, 4])\n",
    "test_p2\n",
    "test_p2.coef"
   ]
  },
  {
   "cell_type": "code",
   "execution_count": 62,
   "id": "b643378e-96f1-4b51-90e9-23c45f8062ca",
   "metadata": {},
   "outputs": [
    {
     "data": {
      "text/plain": [
       "{1, 2, 3}"
      ]
     },
     "execution_count": 62,
     "metadata": {},
     "output_type": "execute_result"
    }
   ],
   "source": [
    "set([1, 2, 3])"
   ]
  },
  {
   "cell_type": "code",
   "execution_count": 66,
   "id": "13c9f1bb-00e4-4c99-a865-faa466aa9260",
   "metadata": {},
   "outputs": [
    {
     "data": {
      "text/plain": [
       "{1, 2, 3}"
      ]
     },
     "execution_count": 66,
     "metadata": {},
     "output_type": "execute_result"
    }
   ],
   "source": [
    "set([1, 2, 3, 3, 2, 1, 3]) #only 1, 2, 3; sets have unique values but no indexes like lists"
   ]
  },
  {
   "cell_type": "code",
   "execution_count": 68,
   "id": "602d129b-9aac-4901-b9f0-edb037d9fa81",
   "metadata": {},
   "outputs": [
    {
     "data": {
      "text/plain": [
       "True"
      ]
     },
     "execution_count": 68,
     "metadata": {},
     "output_type": "execute_result"
    }
   ],
   "source": [
    "2 in set([1, 2, 3, 3, 2, 1, 3])"
   ]
  },
  {
   "cell_type": "code",
   "execution_count": 72,
   "id": "828a31dc-4496-45f6-a1d0-1e8102e03c5d",
   "metadata": {},
   "outputs": [
    {
     "data": {
      "text/plain": [
       "False"
      ]
     },
     "execution_count": 72,
     "metadata": {},
     "output_type": "execute_result"
    }
   ],
   "source": [
    "20 in set([1, 2, 3, 3, 2, 1, 3])"
   ]
  },
  {
   "cell_type": "code",
   "execution_count": 78,
   "id": "854fed74-ac59-4e66-ac55-660d76c741ea",
   "metadata": {},
   "outputs": [
    {
     "data": {
      "text/plain": [
       "[100, 81, 64, 49, 36, 25, 16, 9, 4, 1, 0, 1, 4, 9, 16, 25, 36, 49, 64, 81, 100]"
      ]
     },
     "execution_count": 78,
     "metadata": {},
     "output_type": "execute_result"
    }
   ],
   "source": [
    "[x ** 2 for x in range(-10, 11)] #list"
   ]
  },
  {
   "cell_type": "code",
   "execution_count": 80,
   "id": "d47b1e69-cf04-4acc-a4a3-1a875dd7345b",
   "metadata": {},
   "outputs": [
    {
     "data": {
      "text/plain": [
       "{0, 1, 4, 9, 16, 25, 36, 49, 64, 81, 100}"
      ]
     },
     "execution_count": 80,
     "metadata": {},
     "output_type": "execute_result"
    }
   ],
   "source": [
    "{x ** 2 for x in range(-10, 11)} #set"
   ]
  },
  {
   "cell_type": "code",
   "execution_count": null,
   "id": "2050af4e-1af9-43b8-8ebb-ab1d4229dd6d",
   "metadata": {},
   "outputs": [],
   "source": []
  }
 ],
 "metadata": {
  "kernelspec": {
   "display_name": "Python [conda env:base] *",
   "language": "python",
   "name": "conda-base-py"
  },
  "language_info": {
   "codemirror_mode": {
    "name": "ipython",
    "version": 3
   },
   "file_extension": ".py",
   "mimetype": "text/x-python",
   "name": "python",
   "nbconvert_exporter": "python",
   "pygments_lexer": "ipython3",
   "version": "3.12.7"
  }
 },
 "nbformat": 4,
 "nbformat_minor": 5
}
